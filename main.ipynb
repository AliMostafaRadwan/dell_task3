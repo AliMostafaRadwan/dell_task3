{
 "cells": [
  {
   "cell_type": "code",
   "execution_count": 75,
   "metadata": {},
   "outputs": [],
   "source": [
    "from sklearn.linear_model import LinearRegression\n",
    "import numpy as np\n",
    "import pandas as pd\n",
    "import matplotlib.pyplot as plt\n"
   ]
  },
  {
   "cell_type": "code",
   "execution_count": 76,
   "metadata": {},
   "outputs": [],
   "source": [
    "df = pd.read_csv('realest.csv')"
   ]
  },
  {
   "cell_type": "code",
   "execution_count": 77,
   "metadata": {},
   "outputs": [
    {
     "data": {
      "text/html": [
       "<div>\n",
       "<style scoped>\n",
       "    .dataframe tbody tr th:only-of-type {\n",
       "        vertical-align: middle;\n",
       "    }\n",
       "\n",
       "    .dataframe tbody tr th {\n",
       "        vertical-align: top;\n",
       "    }\n",
       "\n",
       "    .dataframe thead th {\n",
       "        text-align: right;\n",
       "    }\n",
       "</style>\n",
       "<table border=\"1\" class=\"dataframe\">\n",
       "  <thead>\n",
       "    <tr style=\"text-align: right;\">\n",
       "      <th></th>\n",
       "      <th>Price</th>\n",
       "      <th>Bedroom</th>\n",
       "      <th>Space</th>\n",
       "      <th>Room</th>\n",
       "      <th>Lot</th>\n",
       "      <th>Tax</th>\n",
       "      <th>Bathroom</th>\n",
       "      <th>Garage</th>\n",
       "      <th>Condition</th>\n",
       "    </tr>\n",
       "  </thead>\n",
       "  <tbody>\n",
       "    <tr>\n",
       "      <th>0</th>\n",
       "      <td>53.0</td>\n",
       "      <td>2.0</td>\n",
       "      <td>967.0</td>\n",
       "      <td>5.0</td>\n",
       "      <td>39.0</td>\n",
       "      <td>652.0</td>\n",
       "      <td>1.5</td>\n",
       "      <td>0.0</td>\n",
       "      <td>0.0</td>\n",
       "    </tr>\n",
       "    <tr>\n",
       "      <th>1</th>\n",
       "      <td>55.0</td>\n",
       "      <td>2.0</td>\n",
       "      <td>815.0</td>\n",
       "      <td>5.0</td>\n",
       "      <td>33.0</td>\n",
       "      <td>1000.0</td>\n",
       "      <td>1.0</td>\n",
       "      <td>2.0</td>\n",
       "      <td>1.0</td>\n",
       "    </tr>\n",
       "    <tr>\n",
       "      <th>2</th>\n",
       "      <td>56.0</td>\n",
       "      <td>3.0</td>\n",
       "      <td>900.0</td>\n",
       "      <td>5.0</td>\n",
       "      <td>35.0</td>\n",
       "      <td>897.0</td>\n",
       "      <td>1.5</td>\n",
       "      <td>1.0</td>\n",
       "      <td>0.0</td>\n",
       "    </tr>\n",
       "    <tr>\n",
       "      <th>3</th>\n",
       "      <td>58.0</td>\n",
       "      <td>3.0</td>\n",
       "      <td>1007.0</td>\n",
       "      <td>6.0</td>\n",
       "      <td>24.0</td>\n",
       "      <td>964.0</td>\n",
       "      <td>1.5</td>\n",
       "      <td>2.0</td>\n",
       "      <td>0.0</td>\n",
       "    </tr>\n",
       "    <tr>\n",
       "      <th>4</th>\n",
       "      <td>64.0</td>\n",
       "      <td>3.0</td>\n",
       "      <td>1100.0</td>\n",
       "      <td>7.0</td>\n",
       "      <td>50.0</td>\n",
       "      <td>1099.0</td>\n",
       "      <td>1.5</td>\n",
       "      <td>1.5</td>\n",
       "      <td>0.0</td>\n",
       "    </tr>\n",
       "  </tbody>\n",
       "</table>\n",
       "</div>"
      ],
      "text/plain": [
       "   Price  Bedroom   Space  Room   Lot     Tax  Bathroom  Garage  Condition\n",
       "0   53.0      2.0   967.0   5.0  39.0   652.0       1.5     0.0        0.0\n",
       "1   55.0      2.0   815.0   5.0  33.0  1000.0       1.0     2.0        1.0\n",
       "2   56.0      3.0   900.0   5.0  35.0   897.0       1.5     1.0        0.0\n",
       "3   58.0      3.0  1007.0   6.0  24.0   964.0       1.5     2.0        0.0\n",
       "4   64.0      3.0  1100.0   7.0  50.0  1099.0       1.5     1.5        0.0"
      ]
     },
     "execution_count": 77,
     "metadata": {},
     "output_type": "execute_result"
    }
   ],
   "source": [
    "df.head()"
   ]
  },
  {
   "cell_type": "code",
   "execution_count": 78,
   "metadata": {},
   "outputs": [
    {
     "name": "stdout",
     "output_type": "stream",
     "text": [
      "<class 'pandas.core.frame.DataFrame'>\n",
      "RangeIndex: 157 entries, 0 to 156\n",
      "Data columns (total 9 columns):\n",
      " #   Column     Non-Null Count  Dtype  \n",
      "---  ------     --------------  -----  \n",
      " 0   Price      156 non-null    float64\n",
      " 1   Bedroom    156 non-null    float64\n",
      " 2   Space      146 non-null    float64\n",
      " 3   Room       156 non-null    float64\n",
      " 4   Lot        146 non-null    float64\n",
      " 5   Tax        147 non-null    float64\n",
      " 6   Bathroom   156 non-null    float64\n",
      " 7   Garage     156 non-null    float64\n",
      " 8   Condition  156 non-null    float64\n",
      "dtypes: float64(9)\n",
      "memory usage: 11.2 KB\n"
     ]
    }
   ],
   "source": [
    "df.info()"
   ]
  },
  {
   "cell_type": "code",
   "execution_count": 79,
   "metadata": {},
   "outputs": [],
   "source": [
    "df.dropna(inplace=True)"
   ]
  },
  {
   "cell_type": "code",
   "execution_count": 80,
   "metadata": {},
   "outputs": [
    {
     "name": "stdout",
     "output_type": "stream",
     "text": [
      "<class 'pandas.core.frame.DataFrame'>\n",
      "Int64Index: 128 entries, 0 to 155\n",
      "Data columns (total 9 columns):\n",
      " #   Column     Non-Null Count  Dtype  \n",
      "---  ------     --------------  -----  \n",
      " 0   Price      128 non-null    float64\n",
      " 1   Bedroom    128 non-null    float64\n",
      " 2   Space      128 non-null    float64\n",
      " 3   Room       128 non-null    float64\n",
      " 4   Lot        128 non-null    float64\n",
      " 5   Tax        128 non-null    float64\n",
      " 6   Bathroom   128 non-null    float64\n",
      " 7   Garage     128 non-null    float64\n",
      " 8   Condition  128 non-null    float64\n",
      "dtypes: float64(9)\n",
      "memory usage: 10.0 KB\n"
     ]
    }
   ],
   "source": [
    "df.info()"
   ]
  },
  {
   "cell_type": "code",
   "execution_count": 81,
   "metadata": {},
   "outputs": [
    {
     "data": {
      "text/html": [
       "<div>\n",
       "<style scoped>\n",
       "    .dataframe tbody tr th:only-of-type {\n",
       "        vertical-align: middle;\n",
       "    }\n",
       "\n",
       "    .dataframe tbody tr th {\n",
       "        vertical-align: top;\n",
       "    }\n",
       "\n",
       "    .dataframe thead th {\n",
       "        text-align: right;\n",
       "    }\n",
       "</style>\n",
       "<table border=\"1\" class=\"dataframe\">\n",
       "  <thead>\n",
       "    <tr style=\"text-align: right;\">\n",
       "      <th></th>\n",
       "      <th>Price</th>\n",
       "      <th>Bedroom</th>\n",
       "      <th>Space</th>\n",
       "      <th>Room</th>\n",
       "      <th>Lot</th>\n",
       "      <th>Tax</th>\n",
       "      <th>Bathroom</th>\n",
       "      <th>Garage</th>\n",
       "      <th>Condition</th>\n",
       "    </tr>\n",
       "  </thead>\n",
       "  <tbody>\n",
       "    <tr>\n",
       "      <th>count</th>\n",
       "      <td>128.000000</td>\n",
       "      <td>128.000000</td>\n",
       "      <td>128.000000</td>\n",
       "      <td>128.000000</td>\n",
       "      <td>128.000000</td>\n",
       "      <td>128.000000</td>\n",
       "      <td>128.000000</td>\n",
       "      <td>128.000000</td>\n",
       "      <td>128.000000</td>\n",
       "    </tr>\n",
       "    <tr>\n",
       "      <th>mean</th>\n",
       "      <td>56.718750</td>\n",
       "      <td>3.195312</td>\n",
       "      <td>1109.382812</td>\n",
       "      <td>6.531250</td>\n",
       "      <td>32.664062</td>\n",
       "      <td>925.476562</td>\n",
       "      <td>1.488281</td>\n",
       "      <td>0.812500</td>\n",
       "      <td>0.226562</td>\n",
       "    </tr>\n",
       "    <tr>\n",
       "      <th>std</th>\n",
       "      <td>13.348708</td>\n",
       "      <td>1.392096</td>\n",
       "      <td>480.844011</td>\n",
       "      <td>1.724933</td>\n",
       "      <td>8.630907</td>\n",
       "      <td>435.174559</td>\n",
       "      <td>0.548674</td>\n",
       "      <td>0.810852</td>\n",
       "      <td>0.420252</td>\n",
       "    </tr>\n",
       "    <tr>\n",
       "      <th>min</th>\n",
       "      <td>32.000000</td>\n",
       "      <td>1.000000</td>\n",
       "      <td>539.000000</td>\n",
       "      <td>4.000000</td>\n",
       "      <td>24.000000</td>\n",
       "      <td>418.000000</td>\n",
       "      <td>1.000000</td>\n",
       "      <td>0.000000</td>\n",
       "      <td>0.000000</td>\n",
       "    </tr>\n",
       "    <tr>\n",
       "      <th>25%</th>\n",
       "      <td>46.000000</td>\n",
       "      <td>2.000000</td>\n",
       "      <td>809.750000</td>\n",
       "      <td>5.000000</td>\n",
       "      <td>25.000000</td>\n",
       "      <td>679.750000</td>\n",
       "      <td>1.000000</td>\n",
       "      <td>0.000000</td>\n",
       "      <td>0.000000</td>\n",
       "    </tr>\n",
       "    <tr>\n",
       "      <th>50%</th>\n",
       "      <td>56.000000</td>\n",
       "      <td>3.000000</td>\n",
       "      <td>963.500000</td>\n",
       "      <td>6.000000</td>\n",
       "      <td>30.000000</td>\n",
       "      <td>855.500000</td>\n",
       "      <td>1.500000</td>\n",
       "      <td>1.000000</td>\n",
       "      <td>0.000000</td>\n",
       "    </tr>\n",
       "    <tr>\n",
       "      <th>75%</th>\n",
       "      <td>64.000000</td>\n",
       "      <td>4.000000</td>\n",
       "      <td>1199.500000</td>\n",
       "      <td>7.000000</td>\n",
       "      <td>35.500000</td>\n",
       "      <td>1039.750000</td>\n",
       "      <td>2.000000</td>\n",
       "      <td>1.500000</td>\n",
       "      <td>0.000000</td>\n",
       "    </tr>\n",
       "    <tr>\n",
       "      <th>max</th>\n",
       "      <td>90.000000</td>\n",
       "      <td>8.000000</td>\n",
       "      <td>2295.000000</td>\n",
       "      <td>12.000000</td>\n",
       "      <td>50.000000</td>\n",
       "      <td>2752.000000</td>\n",
       "      <td>3.000000</td>\n",
       "      <td>2.000000</td>\n",
       "      <td>1.000000</td>\n",
       "    </tr>\n",
       "  </tbody>\n",
       "</table>\n",
       "</div>"
      ],
      "text/plain": [
       "            Price     Bedroom        Space        Room         Lot  \\\n",
       "count  128.000000  128.000000   128.000000  128.000000  128.000000   \n",
       "mean    56.718750    3.195312  1109.382812    6.531250   32.664062   \n",
       "std     13.348708    1.392096   480.844011    1.724933    8.630907   \n",
       "min     32.000000    1.000000   539.000000    4.000000   24.000000   \n",
       "25%     46.000000    2.000000   809.750000    5.000000   25.000000   \n",
       "50%     56.000000    3.000000   963.500000    6.000000   30.000000   \n",
       "75%     64.000000    4.000000  1199.500000    7.000000   35.500000   \n",
       "max     90.000000    8.000000  2295.000000   12.000000   50.000000   \n",
       "\n",
       "               Tax    Bathroom      Garage   Condition  \n",
       "count   128.000000  128.000000  128.000000  128.000000  \n",
       "mean    925.476562    1.488281    0.812500    0.226562  \n",
       "std     435.174559    0.548674    0.810852    0.420252  \n",
       "min     418.000000    1.000000    0.000000    0.000000  \n",
       "25%     679.750000    1.000000    0.000000    0.000000  \n",
       "50%     855.500000    1.500000    1.000000    0.000000  \n",
       "75%    1039.750000    2.000000    1.500000    0.000000  \n",
       "max    2752.000000    3.000000    2.000000    1.000000  "
      ]
     },
     "execution_count": 81,
     "metadata": {},
     "output_type": "execute_result"
    }
   ],
   "source": [
    "df.describe()\n"
   ]
  },
  {
   "cell_type": "code",
   "execution_count": 82,
   "metadata": {},
   "outputs": [
    {
     "data": {
      "text/plain": [
       "<AxesSubplot: >"
      ]
     },
     "execution_count": 82,
     "metadata": {},
     "output_type": "execute_result"
    },
    {
     "data": {
      "image/png": "[encoded data removed]",
      "text/plain": [
       "<Figure size 432x288 with 1 Axes>"
      ]
     },
     "metadata": {
      "needs_background": "light"
     },
     "output_type": "display_data"
    }
   ],
   "source": [
    "df['Price'].hist(bins=50)"
   ]
  },
  {
   "cell_type": "code",
   "execution_count": 83,
   "metadata": {},
   "outputs": [],
   "source": [
    "stat = df[(df['Bathroom'] ==2) & (df['Bedroom'] == 4)]['Tax'].describe()"
   ]
  },
  {
   "cell_type": "code",
   "execution_count": 132,
   "metadata": {},
   "outputs": [],
   "source": [
    "import pandas as pd\n",
    "from sklearn.linear_model import LinearRegression\n",
    "import numpy as np\n",
    "\n",
    "\n",
    "def analyse_and_fit_lrm(path):\n",
    "    # Load the dataset into a pandas DataFrame\n",
    "    data = pd.read_csv(path)\n",
    "    data.dropna(inplace=True)\n",
    "    # Compute summary statistics for Tax for houses with two bathrooms and four bedrooms\n",
    "    tax_stats = data[(data['Bathroom'] == 2) & (data['Bedroom'] == 4)]['Tax'].describe()\n",
    "\n",
    "    # Filter observations for which Space is bigger than 800, ordered by decreasing Price\n",
    "    filtered_data = data[data['Space'] > 800].sort_values('Price', ascending=False)\n",
    "\n",
    "    # Compute the 4th 5-quantile of Lot and count the number of observations for which Lot is greater or equal to it\n",
    "    lot_quantile = np.quantile(data['Lot'], 0.8)\n",
    "    lot_count = (data['Lot'] >= lot_quantile).sum()\n",
    "\n",
    "    # Fit a linear regression model with Price as the response variable and other variables as predictors\n",
    "    X = data[['Bedroom', 'Space', 'Room', 'Lot', 'Tax', 'Bathroom', 'Garage', 'Condition']]\n",
    "    y = data['Price']\n",
    "    model = LinearRegression()\n",
    "    model.fit(X, y)\n",
    "    # Extract the model parameters and make a price prediction for a new observation\n",
    "    params = pd.Series(model.coef_, index=X.columns)\n",
    "    new_obs = pd.DataFrame({'Bedroom': 3, 'Space': 1500, 'Room': 8, 'Lot': 40, 'Tax': 1000, 'Bathroom': 2, 'Garage': 1, 'Condition': 0}, index=[0])\n",
    "    new_obs = new_obs[['Bedroom', 'Space', 'Room', 'Lot', 'Tax', 'Bathroom', 'Garage', 'Condition']]\n",
    "    pred_price = model.predict(new_obs)\n",
    "\n",
    "    # Return the results as a named list\n",
    "    return {\n",
    "        'summary_list': {\n",
    "            'statistics': tax_stats.values.tolist(),\n",
    "            'data_frame': filtered_data,\n",
    "            'number_of_observations': lot_count\n",
    "        },\n",
    "        'regression_list': {\n",
    "            'model_parameters': params.values,\n",
    "            'price_prediction': pred_price[0]\n",
    "        }\n",
    "    }"
   ]
  },
  {
   "cell_type": "code",
   "execution_count": 133,
   "metadata": {},
   "outputs": [],
   "source": [
    "res = analyse_and_fit_lrm('realest.csv')"
   ]
  },
  {
   "cell_type": "code",
   "execution_count": 135,
   "metadata": {},
   "outputs": [
    {
     "data": {
      "text/plain": [
       "{'summary_list': {'statistics': [8.0,\n",
       "   845.75,\n",
       "   171.97736562034635,\n",
       "   554.0,\n",
       "   811.5,\n",
       "   918.0,\n",
       "   961.25,\n",
       "   975.0],\n",
       "  'data_frame':      Price  Bedroom   Space  Room   Lot     Tax  Bathroom  Garage  Condition\n",
       "  114   90.0      8.0  2293.0  12.0  50.0  1181.0       3.0     2.0        0.0\n",
       "  36    88.0      8.0  2278.0  12.0  50.0  1183.0       3.0     2.0        0.0\n",
       "  140   88.0      7.0  2277.0  12.0  50.0  1248.0       3.0     2.0        0.0\n",
       "  88    88.0      8.0  2228.0  12.0  50.0  1208.0       3.0     2.0        0.0\n",
       "  62    85.0      7.0  2295.0  12.0  50.0  1233.0       3.0     2.0        0.0\n",
       "  ..     ...      ...     ...   ...   ...     ...       ...     ...        ...\n",
       "  19    35.0      4.0  1137.0   7.0  25.0   561.0       1.5     0.0        0.0\n",
       "  45    35.0      5.0  1142.0   7.0  25.0   543.0       1.5     0.0        0.0\n",
       "  71    34.0      4.0  1095.0   7.0  25.0   530.0       1.5     0.0        0.0\n",
       "  97    34.0      4.0  1087.0   7.0  25.0   584.0       1.5     0.0        0.0\n",
       "  149   32.0      4.0  1065.0   7.0  25.0   492.0       1.5     0.0        0.0\n",
       "  \n",
       "  [97 rows x 9 columns],\n",
       "  'number_of_observations': 26},\n",
       " 'regression_list': {'model_parameters': array([-3.16023874e+00,  9.66322780e-03,  1.68895111e+00,  2.36213231e-01,\n",
       "          4.41271852e-03,  6.37578599e+00,  4.14475743e+00,  1.83579537e+00]),\n",
       "  'price_prediction': 69.27677925052456}}"
      ]
     },
     "execution_count": 135,
     "metadata": {},
     "output_type": "execute_result"
    }
   ],
   "source": [
    "res"
   ]
  },
  {
   "cell_type": "code",
   "execution_count": null,
   "metadata": {},
   "outputs": [],
   "source": []
  }
 ],
 "metadata": {
  "kernelspec": {
   "display_name": "Python 3",
   "language": "python",
   "name": "python3"
  },
  "language_info": {
   "codemirror_mode": {
    "name": "ipython",
    "version": 3
   },
   "file_extension": ".py",
   "mimetype": "text/x-python",
   "name": "python",
   "nbconvert_exporter": "python",
   "pygments_lexer": "ipython3",
   "version": "3.8.10"
  },
  "orig_nbformat": 4,
  "vscode": {
   "interpreter": {
    "hash": "e7370f93d1d0cde622a1f8e1c04877d8463912d04d973331ad4851f04de6915a"
   }
  }
 },
 "nbformat": 4,
 "nbformat_minor": 2
}
